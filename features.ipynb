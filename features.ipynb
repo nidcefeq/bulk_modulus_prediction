{
  "nbformat": 4,
  "nbformat_minor": 0,
  "metadata": {
    "colab": {
      "provenance": []
    },
    "kernelspec": {
      "name": "python3",
      "display_name": "Python 3"
    },
    "language_info": {
      "name": "python"
    }
  },
  "cells": [
    {
      "cell_type": "markdown",
      "source": [
        "Подключение к гугл диску и загрузка необходимых библиотек"
      ],
      "metadata": {
        "id": "r04D7bjsx67Q"
      }
    },
    {
      "cell_type": "code",
      "execution_count": 4,
      "metadata": {
        "colab": {
          "base_uri": "https://localhost:8080/"
        },
        "id": "o_BoL6v2u2js",
        "outputId": "a79d3e2c-5102-4dd9-df60-fb2df897b37e"
      },
      "outputs": [
        {
          "output_type": "stream",
          "name": "stdout",
          "text": [
            "Mounted at /content/drive\n"
          ]
        }
      ],
      "source": [
        "from google.colab import drive\n",
        "drive.mount('/content/drive')"
      ]
    },
    {
      "cell_type": "code",
      "source": [
        "import numpy as np\n",
        "import pandas as pd\n",
        "from itertools import product, repeat\n",
        "from pymatgen.core import Element, Structure\n",
        "from tqdm import tqdm\n",
        "from matminer.utils.data import MagpieData\n",
        "import matplotlib.pyplot as plt"
      ],
      "metadata": {
        "id": "NsPLtXRtvFCX"
      },
      "execution_count": 5,
      "outputs": []
    },
    {
      "cell_type": "code",
      "source": [
        "!pip install scikit-learn==1.4.2 -q"
      ],
      "metadata": {
        "colab": {
          "base_uri": "https://localhost:8080/"
        },
        "id": "ptOn6IHMvA9J",
        "outputId": "86ceb8dd-75c3-46fa-c692-83136ceba70a"
      },
      "execution_count": 1,
      "outputs": [
        {
          "output_type": "stream",
          "name": "stdout",
          "text": [
            "\u001b[2K   \u001b[90m━━━━━━━━━━━━━━━━━━━━━━━━━━━━━━━━━━━━━━━━\u001b[0m \u001b[32m12.2/12.2 MB\u001b[0m \u001b[31m37.3 MB/s\u001b[0m eta \u001b[36m0:00:00\u001b[0m\n",
            "\u001b[?25h\u001b[31mERROR: pip's dependency resolver does not currently take into account all the packages that are installed. This behaviour is the source of the following dependency conflicts.\n",
            "cuml-cu12 25.6.0 requires scikit-learn>=1.5, but you have scikit-learn 1.4.2 which is incompatible.\n",
            "umap-learn 0.5.9.post2 requires scikit-learn>=1.6, but you have scikit-learn 1.4.2 which is incompatible.\u001b[0m\u001b[31m\n",
            "\u001b[0m"
          ]
        }
      ]
    },
    {
      "cell_type": "code",
      "source": [
        "!pip install pymatgen ase dscribe matminer megnet -q"
      ],
      "metadata": {
        "colab": {
          "base_uri": "https://localhost:8080/"
        },
        "id": "XT-KaovYvfoX",
        "outputId": "95f0d362-9432-403a-be2a-6d82b8d212dc"
      },
      "execution_count": 2,
      "outputs": [
        {
          "output_type": "stream",
          "name": "stdout",
          "text": [
            "\u001b[?25l     \u001b[90m━━━━━━━━━━━━━━━━━━━━━━━━━━━━━━━━━━━━━━━━\u001b[0m \u001b[32m0.0/55.6 kB\u001b[0m \u001b[31m?\u001b[0m eta \u001b[36m-:--:--\u001b[0m\r\u001b[2K     \u001b[90m━━━━━━━━━━━━━━━━━━━━━━━━━━━━━━━━━━━━━━━━\u001b[0m \u001b[32m55.6/55.6 kB\u001b[0m \u001b[31m2.2 MB/s\u001b[0m eta \u001b[36m0:00:00\u001b[0m\n",
            "\u001b[?25h  Preparing metadata (setup.py) ... \u001b[?25l\u001b[?25hdone\n",
            "\u001b[2K   \u001b[90m━━━━━━━━━━━━━━━━━━━━━━━━━━━━━━━━━━━━━━━━\u001b[0m \u001b[32m5.1/5.1 MB\u001b[0m \u001b[31m75.0 MB/s\u001b[0m eta \u001b[36m0:00:00\u001b[0m\n",
            "\u001b[2K   \u001b[90m━━━━━━━━━━━━━━━━━━━━━━━━━━━━━━━━━━━━━━━━\u001b[0m \u001b[32m2.9/2.9 MB\u001b[0m \u001b[31m81.1 MB/s\u001b[0m eta \u001b[36m0:00:00\u001b[0m\n",
            "\u001b[2K   \u001b[90m━━━━━━━━━━━━━━━━━━━━━━━━━━━━━━━━━━━━━━━━\u001b[0m \u001b[32m12.9/12.9 MB\u001b[0m \u001b[31m55.4 MB/s\u001b[0m eta \u001b[36m0:00:00\u001b[0m\n",
            "\u001b[2K   \u001b[90m━━━━━━━━━━━━━━━━━━━━━━━━━━━━━━━━━━━━━━━━\u001b[0m \u001b[32m5.5/5.5 MB\u001b[0m \u001b[31m101.6 MB/s\u001b[0m eta \u001b[36m0:00:00\u001b[0m\n",
            "\u001b[2K   \u001b[90m━━━━━━━━━━━━━━━━━━━━━━━━━━━━━━━━━━━━━━━━\u001b[0m \u001b[32m113.2/113.2 kB\u001b[0m \u001b[31m8.6 MB/s\u001b[0m eta \u001b[36m0:00:00\u001b[0m\n",
            "\u001b[2K   \u001b[90m━━━━━━━━━━━━━━━━━━━━━━━━━━━━━━━━━━━━━━━━\u001b[0m \u001b[32m51.9/51.9 kB\u001b[0m \u001b[31m3.8 MB/s\u001b[0m eta \u001b[36m0:00:00\u001b[0m\n",
            "\u001b[2K   \u001b[90m━━━━━━━━━━━━━━━━━━━━━━━━━━━━━━━━━━━━━━━━\u001b[0m \u001b[32m332.3/332.3 kB\u001b[0m \u001b[31m22.2 MB/s\u001b[0m eta \u001b[36m0:00:00\u001b[0m\n",
            "\u001b[2K   \u001b[90m━━━━━━━━━━━━━━━━━━━━━━━━━━━━━━━━━━━━━━━━\u001b[0m \u001b[32m1.7/1.7 MB\u001b[0m \u001b[31m66.7 MB/s\u001b[0m eta \u001b[36m0:00:00\u001b[0m\n",
            "\u001b[2K   \u001b[90m━━━━━━━━━━━━━━━━━━━━━━━━━━━━━━━━━━━━━━━━\u001b[0m \u001b[32m119.7/119.7 kB\u001b[0m \u001b[31m8.9 MB/s\u001b[0m eta \u001b[36m0:00:00\u001b[0m\n",
            "\u001b[2K   \u001b[90m━━━━━━━━━━━━━━━━━━━━━━━━━━━━━━━━━━━━━━━━\u001b[0m \u001b[32m809.1/809.1 kB\u001b[0m \u001b[31m42.8 MB/s\u001b[0m eta \u001b[36m0:00:00\u001b[0m\n",
            "\u001b[2K   \u001b[90m━━━━━━━━━━━━━━━━━━━━━━━━━━━━━━━━━━━━━━━━\u001b[0m \u001b[32m60.1/60.1 kB\u001b[0m \u001b[31m4.3 MB/s\u001b[0m eta \u001b[36m0:00:00\u001b[0m\n",
            "\u001b[2K   \u001b[90m━━━━━━━━━━━━━━━━━━━━━━━━━━━━━━━━━━━━━━━━\u001b[0m \u001b[32m259.4/259.4 kB\u001b[0m \u001b[31m20.0 MB/s\u001b[0m eta \u001b[36m0:00:00\u001b[0m\n",
            "\u001b[2K   \u001b[90m━━━━━━━━━━━━━━━━━━━━━━━━━━━━━━━━━━━━━━━━\u001b[0m \u001b[32m313.6/313.6 kB\u001b[0m \u001b[31m22.4 MB/s\u001b[0m eta \u001b[36m0:00:00\u001b[0m\n",
            "\u001b[2K   \u001b[90m━━━━━━━━━━━━━━━━━━━━━━━━━━━━━━━━━━━━━━━━\u001b[0m \u001b[32m754.1/754.1 kB\u001b[0m \u001b[31m42.6 MB/s\u001b[0m eta \u001b[36m0:00:00\u001b[0m\n",
            "\u001b[?25h  Building wheel for bibtexparser (setup.py) ... \u001b[?25l\u001b[?25hdone\n"
          ]
        }
      ]
    },
    {
      "cell_type": "markdown",
      "source": [
        "Определение списка элементарных свойств"
      ],
      "metadata": {
        "id": "TlorJGxAx0kk"
      }
    },
    {
      "cell_type": "code",
      "source": [
        "ELEMENTAL_PROPERTIES = ['AtomicWeight', 'MeltingT',\n",
        "'Electronegativity', 'NpValence',  'NfValence',\n",
        "'NdUnfilled', 'NUnfilled','GSvolume_pa',\n",
        "'GSbandgap', 'GSmagmom', 'SpaceGroupNumber', ]"
      ],
      "metadata": {
        "id": "-jKs3x1nx0QO"
      },
      "execution_count": null,
      "outputs": []
    },
    {
      "cell_type": "markdown",
      "source": [
        "Получение свойств элементов\n",
        "\n",
        "\n",
        "*   Берёт каждый элемент из списка свойств.\n",
        "*   Для каждого атомного номера Z (от 1 до 92) достаёт значение свойства.\n",
        "*   Сохраняет в словарь вида:\n",
        "      {\n",
        "        \"AtomicWeight\": {\"H\": 1.0, \"He\": 4.0, ...},\n",
        "        \"Electronegativity\": {\"H\": 2.2, \"He\": None, ...},\n",
        "        ...\n",
        "      }\n",
        "\n",
        "\n"
      ],
      "metadata": {
        "id": "rO-1b2jRyC10"
      }
    },
    {
      "cell_type": "code",
      "source": [
        "def get_magpie_properties():\n",
        "    MD = MagpieData()\n",
        "    all_elem_values = []\n",
        "\n",
        "    for e in ELEMENTAL_PROPERTIES:\n",
        "        elem_values = []\n",
        "        for z in range(1, 93):\n",
        "            elem_values.append(\n",
        "                MD.get_elemental_property(Element.from_Z(z), e)\n",
        "            )\n",
        "        all_elem_values.append(dict(zip([str(Element.from_Z(z)) for z in range(1, 93)], elem_values)))\n",
        "\n",
        "    return dict(zip(ELEMENTAL_PROPERTIES, all_elem_values))"
      ],
      "metadata": {
        "id": "rK1QEA1FvHu9"
      },
      "execution_count": null,
      "outputs": []
    },
    {
      "cell_type": "markdown",
      "source": [
        "Функция генерации дескрипторов для структуры\n",
        "\n",
        "\n",
        "*   Для каждой структуры создаёт вектор признаков.\n",
        "*   Для каждого свойства берёт среднее значение по всем атомам структуры.\n",
        "*   Возвращает numpy-массив признаков (размерность = число свойств).\n",
        "\n"
      ],
      "metadata": {
        "id": "3Hb_ZkUYzHfj"
      }
    },
    {
      "cell_type": "code",
      "source": [
        "def get_descriptors(structure):\n",
        "\n",
        "    feature_vector = []\n",
        "\n",
        "    for e in ELEMENTAL_PROPERTIES:\n",
        "        temp_descrs = []\n",
        "\n",
        "        for i in structure:\n",
        "          temp_descrs.append(MAGPIE_PROPERTIES[e][str(i.specie)])\n",
        "        feature_vector.append(sum(temp_descrs)/len(temp_descrs))\n",
        "    return np.array(feature_vector)\n",
        "\n",
        "\n",
        "MAGPIE_PROPERTIES = get_magpie_properties()"
      ],
      "metadata": {
        "id": "UQY_i3idzG0r"
      },
      "execution_count": null,
      "outputs": []
    },
    {
      "cell_type": "markdown",
      "source": [
        "Загрузка файла с таргетом"
      ],
      "metadata": {
        "id": "IxQGqVBjyWcu"
      }
    },
    {
      "cell_type": "code",
      "source": [
        "df = pd.read_csv(\"/content/bulk_id.csv\")\n",
        "df.head()"
      ],
      "metadata": {
        "colab": {
          "base_uri": "https://localhost:8080/",
          "height": 206
        },
        "id": "5LRc98phvKA3",
        "outputId": "14ce8de2-5591-4484-e245-3f7322d33116"
      },
      "execution_count": 8,
      "outputs": [
        {
          "output_type": "execute_result",
          "data": {
            "text/plain": [
              "  material_id       K_VRH\n",
              "0    mp-10003  194.268884\n",
              "1    mp-10010  175.449907\n",
              "2    mp-10015  295.077545\n",
              "3    mp-10021   49.130670\n",
              "4    mp-10025  256.768081"
            ],
            "text/html": [
              "\n",
              "  <div id=\"df-0f19e49f-1717-4a4b-b851-5871c2f5776a\" class=\"colab-df-container\">\n",
              "    <div>\n",
              "<style scoped>\n",
              "    .dataframe tbody tr th:only-of-type {\n",
              "        vertical-align: middle;\n",
              "    }\n",
              "\n",
              "    .dataframe tbody tr th {\n",
              "        vertical-align: top;\n",
              "    }\n",
              "\n",
              "    .dataframe thead th {\n",
              "        text-align: right;\n",
              "    }\n",
              "</style>\n",
              "<table border=\"1\" class=\"dataframe\">\n",
              "  <thead>\n",
              "    <tr style=\"text-align: right;\">\n",
              "      <th></th>\n",
              "      <th>material_id</th>\n",
              "      <th>K_VRH</th>\n",
              "    </tr>\n",
              "  </thead>\n",
              "  <tbody>\n",
              "    <tr>\n",
              "      <th>0</th>\n",
              "      <td>mp-10003</td>\n",
              "      <td>194.268884</td>\n",
              "    </tr>\n",
              "    <tr>\n",
              "      <th>1</th>\n",
              "      <td>mp-10010</td>\n",
              "      <td>175.449907</td>\n",
              "    </tr>\n",
              "    <tr>\n",
              "      <th>2</th>\n",
              "      <td>mp-10015</td>\n",
              "      <td>295.077545</td>\n",
              "    </tr>\n",
              "    <tr>\n",
              "      <th>3</th>\n",
              "      <td>mp-10021</td>\n",
              "      <td>49.130670</td>\n",
              "    </tr>\n",
              "    <tr>\n",
              "      <th>4</th>\n",
              "      <td>mp-10025</td>\n",
              "      <td>256.768081</td>\n",
              "    </tr>\n",
              "  </tbody>\n",
              "</table>\n",
              "</div>\n",
              "    <div class=\"colab-df-buttons\">\n",
              "\n",
              "  <div class=\"colab-df-container\">\n",
              "    <button class=\"colab-df-convert\" onclick=\"convertToInteractive('df-0f19e49f-1717-4a4b-b851-5871c2f5776a')\"\n",
              "            title=\"Convert this dataframe to an interactive table.\"\n",
              "            style=\"display:none;\">\n",
              "\n",
              "  <svg xmlns=\"http://www.w3.org/2000/svg\" height=\"24px\" viewBox=\"0 -960 960 960\">\n",
              "    <path d=\"M120-120v-720h720v720H120Zm60-500h600v-160H180v160Zm220 220h160v-160H400v160Zm0 220h160v-160H400v160ZM180-400h160v-160H180v160Zm440 0h160v-160H620v160ZM180-180h160v-160H180v160Zm440 0h160v-160H620v160Z\"/>\n",
              "  </svg>\n",
              "    </button>\n",
              "\n",
              "  <style>\n",
              "    .colab-df-container {\n",
              "      display:flex;\n",
              "      gap: 12px;\n",
              "    }\n",
              "\n",
              "    .colab-df-convert {\n",
              "      background-color: #E8F0FE;\n",
              "      border: none;\n",
              "      border-radius: 50%;\n",
              "      cursor: pointer;\n",
              "      display: none;\n",
              "      fill: #1967D2;\n",
              "      height: 32px;\n",
              "      padding: 0 0 0 0;\n",
              "      width: 32px;\n",
              "    }\n",
              "\n",
              "    .colab-df-convert:hover {\n",
              "      background-color: #E2EBFA;\n",
              "      box-shadow: 0px 1px 2px rgba(60, 64, 67, 0.3), 0px 1px 3px 1px rgba(60, 64, 67, 0.15);\n",
              "      fill: #174EA6;\n",
              "    }\n",
              "\n",
              "    .colab-df-buttons div {\n",
              "      margin-bottom: 4px;\n",
              "    }\n",
              "\n",
              "    [theme=dark] .colab-df-convert {\n",
              "      background-color: #3B4455;\n",
              "      fill: #D2E3FC;\n",
              "    }\n",
              "\n",
              "    [theme=dark] .colab-df-convert:hover {\n",
              "      background-color: #434B5C;\n",
              "      box-shadow: 0px 1px 3px 1px rgba(0, 0, 0, 0.15);\n",
              "      filter: drop-shadow(0px 1px 2px rgba(0, 0, 0, 0.3));\n",
              "      fill: #FFFFFF;\n",
              "    }\n",
              "  </style>\n",
              "\n",
              "    <script>\n",
              "      const buttonEl =\n",
              "        document.querySelector('#df-0f19e49f-1717-4a4b-b851-5871c2f5776a button.colab-df-convert');\n",
              "      buttonEl.style.display =\n",
              "        google.colab.kernel.accessAllowed ? 'block' : 'none';\n",
              "\n",
              "      async function convertToInteractive(key) {\n",
              "        const element = document.querySelector('#df-0f19e49f-1717-4a4b-b851-5871c2f5776a');\n",
              "        const dataTable =\n",
              "          await google.colab.kernel.invokeFunction('convertToInteractive',\n",
              "                                                    [key], {});\n",
              "        if (!dataTable) return;\n",
              "\n",
              "        const docLinkHtml = 'Like what you see? Visit the ' +\n",
              "          '<a target=\"_blank\" href=https://colab.research.google.com/notebooks/data_table.ipynb>data table notebook</a>'\n",
              "          + ' to learn more about interactive tables.';\n",
              "        element.innerHTML = '';\n",
              "        dataTable['output_type'] = 'display_data';\n",
              "        await google.colab.output.renderOutput(dataTable, element);\n",
              "        const docLink = document.createElement('div');\n",
              "        docLink.innerHTML = docLinkHtml;\n",
              "        element.appendChild(docLink);\n",
              "      }\n",
              "    </script>\n",
              "  </div>\n",
              "\n",
              "\n",
              "    <div id=\"df-31842ceb-d9e1-4a1f-82ba-926b02e871fb\">\n",
              "      <button class=\"colab-df-quickchart\" onclick=\"quickchart('df-31842ceb-d9e1-4a1f-82ba-926b02e871fb')\"\n",
              "                title=\"Suggest charts\"\n",
              "                style=\"display:none;\">\n",
              "\n",
              "<svg xmlns=\"http://www.w3.org/2000/svg\" height=\"24px\"viewBox=\"0 0 24 24\"\n",
              "     width=\"24px\">\n",
              "    <g>\n",
              "        <path d=\"M19 3H5c-1.1 0-2 .9-2 2v14c0 1.1.9 2 2 2h14c1.1 0 2-.9 2-2V5c0-1.1-.9-2-2-2zM9 17H7v-7h2v7zm4 0h-2V7h2v10zm4 0h-2v-4h2v4z\"/>\n",
              "    </g>\n",
              "</svg>\n",
              "      </button>\n",
              "\n",
              "<style>\n",
              "  .colab-df-quickchart {\n",
              "      --bg-color: #E8F0FE;\n",
              "      --fill-color: #1967D2;\n",
              "      --hover-bg-color: #E2EBFA;\n",
              "      --hover-fill-color: #174EA6;\n",
              "      --disabled-fill-color: #AAA;\n",
              "      --disabled-bg-color: #DDD;\n",
              "  }\n",
              "\n",
              "  [theme=dark] .colab-df-quickchart {\n",
              "      --bg-color: #3B4455;\n",
              "      --fill-color: #D2E3FC;\n",
              "      --hover-bg-color: #434B5C;\n",
              "      --hover-fill-color: #FFFFFF;\n",
              "      --disabled-bg-color: #3B4455;\n",
              "      --disabled-fill-color: #666;\n",
              "  }\n",
              "\n",
              "  .colab-df-quickchart {\n",
              "    background-color: var(--bg-color);\n",
              "    border: none;\n",
              "    border-radius: 50%;\n",
              "    cursor: pointer;\n",
              "    display: none;\n",
              "    fill: var(--fill-color);\n",
              "    height: 32px;\n",
              "    padding: 0;\n",
              "    width: 32px;\n",
              "  }\n",
              "\n",
              "  .colab-df-quickchart:hover {\n",
              "    background-color: var(--hover-bg-color);\n",
              "    box-shadow: 0 1px 2px rgba(60, 64, 67, 0.3), 0 1px 3px 1px rgba(60, 64, 67, 0.15);\n",
              "    fill: var(--button-hover-fill-color);\n",
              "  }\n",
              "\n",
              "  .colab-df-quickchart-complete:disabled,\n",
              "  .colab-df-quickchart-complete:disabled:hover {\n",
              "    background-color: var(--disabled-bg-color);\n",
              "    fill: var(--disabled-fill-color);\n",
              "    box-shadow: none;\n",
              "  }\n",
              "\n",
              "  .colab-df-spinner {\n",
              "    border: 2px solid var(--fill-color);\n",
              "    border-color: transparent;\n",
              "    border-bottom-color: var(--fill-color);\n",
              "    animation:\n",
              "      spin 1s steps(1) infinite;\n",
              "  }\n",
              "\n",
              "  @keyframes spin {\n",
              "    0% {\n",
              "      border-color: transparent;\n",
              "      border-bottom-color: var(--fill-color);\n",
              "      border-left-color: var(--fill-color);\n",
              "    }\n",
              "    20% {\n",
              "      border-color: transparent;\n",
              "      border-left-color: var(--fill-color);\n",
              "      border-top-color: var(--fill-color);\n",
              "    }\n",
              "    30% {\n",
              "      border-color: transparent;\n",
              "      border-left-color: var(--fill-color);\n",
              "      border-top-color: var(--fill-color);\n",
              "      border-right-color: var(--fill-color);\n",
              "    }\n",
              "    40% {\n",
              "      border-color: transparent;\n",
              "      border-right-color: var(--fill-color);\n",
              "      border-top-color: var(--fill-color);\n",
              "    }\n",
              "    60% {\n",
              "      border-color: transparent;\n",
              "      border-right-color: var(--fill-color);\n",
              "    }\n",
              "    80% {\n",
              "      border-color: transparent;\n",
              "      border-right-color: var(--fill-color);\n",
              "      border-bottom-color: var(--fill-color);\n",
              "    }\n",
              "    90% {\n",
              "      border-color: transparent;\n",
              "      border-bottom-color: var(--fill-color);\n",
              "    }\n",
              "  }\n",
              "</style>\n",
              "\n",
              "      <script>\n",
              "        async function quickchart(key) {\n",
              "          const quickchartButtonEl =\n",
              "            document.querySelector('#' + key + ' button');\n",
              "          quickchartButtonEl.disabled = true;  // To prevent multiple clicks.\n",
              "          quickchartButtonEl.classList.add('colab-df-spinner');\n",
              "          try {\n",
              "            const charts = await google.colab.kernel.invokeFunction(\n",
              "                'suggestCharts', [key], {});\n",
              "          } catch (error) {\n",
              "            console.error('Error during call to suggestCharts:', error);\n",
              "          }\n",
              "          quickchartButtonEl.classList.remove('colab-df-spinner');\n",
              "          quickchartButtonEl.classList.add('colab-df-quickchart-complete');\n",
              "        }\n",
              "        (() => {\n",
              "          let quickchartButtonEl =\n",
              "            document.querySelector('#df-31842ceb-d9e1-4a1f-82ba-926b02e871fb button');\n",
              "          quickchartButtonEl.style.display =\n",
              "            google.colab.kernel.accessAllowed ? 'block' : 'none';\n",
              "        })();\n",
              "      </script>\n",
              "    </div>\n",
              "    </div>\n",
              "  </div>\n"
            ],
            "application/vnd.google.colaboratory.intrinsic+json": {
              "type": "dataframe",
              "variable_name": "df",
              "summary": "{\n  \"name\": \"df\",\n  \"rows\": 1180,\n  \"fields\": [\n    {\n      \"column\": \"material_id\",\n      \"properties\": {\n        \"dtype\": \"string\",\n        \"num_unique_values\": 1180,\n        \"samples\": [\n          \"mp-12635\",\n          \"mp-10877\",\n          \"mp-568711\"\n        ],\n        \"semantic_type\": \"\",\n        \"description\": \"\"\n      }\n    },\n    {\n      \"column\": \"K_VRH\",\n      \"properties\": {\n        \"dtype\": \"number\",\n        \"std\": 72.39420731866645,\n        \"min\": 6.47613489793,\n        \"max\": 401.328615402,\n        \"num_unique_values\": 1180,\n        \"samples\": [\n          143.784306029,\n          92.8605099131,\n          179.846011499\n        ],\n        \"semantic_type\": \"\",\n        \"description\": \"\"\n      }\n    }\n  ]\n}"
            }
          },
          "metadata": {},
          "execution_count": 8
        }
      ]
    },
    {
      "cell_type": "markdown",
      "source": [
        "Обработка структур\n",
        "\n",
        "\n",
        "*   Для каждого material_id загружается .cif файл (структура кристалла).\n",
        "*   Сохраняем саму структуру в structures.\n",
        "*   Считаем её признаки (через get_descriptors) и сохраняем в features.\n",
        "\n",
        "\n",
        "\n"
      ],
      "metadata": {
        "id": "f5_0l-ouyfUk"
      }
    },
    {
      "cell_type": "code",
      "source": [
        "import os\n",
        "structures = []\n",
        "features = []\n",
        "for id in df.material_id:\n",
        "  structure = Structure.from_file(os.path.join(\"/content/drive/MyDrive/bulk_cifs\", str(id) + '.cif'))\n",
        "  structures.append(structure)\n",
        "  features.append(get_descriptors(structure))"
      ],
      "metadata": {
        "colab": {
          "base_uri": "https://localhost:8080/"
        },
        "id": "t19hzRDLvVK3",
        "outputId": "4316c324-69e6-4188-c363-dacdb0c70541"
      },
      "execution_count": 10,
      "outputs": [
        {
          "output_type": "stream",
          "name": "stderr",
          "text": [
            "/usr/local/lib/python3.12/dist-packages/pymatgen/core/structure.py:3107: UserWarning: Issues encountered while parsing CIF: 8 fractional coordinates rounded to ideal values to avoid issues with finite precision.\n",
            "  struct = parser.parse_structures(primitive=primitive)[0]\n",
            "/usr/local/lib/python3.12/dist-packages/pymatgen/core/structure.py:3107: UserWarning: Issues encountered while parsing CIF: 4 fractional coordinates rounded to ideal values to avoid issues with finite precision.\n",
            "  struct = parser.parse_structures(primitive=primitive)[0]\n"
          ]
        }
      ]
    },
    {
      "cell_type": "markdown",
      "source": [
        "Проверка результата - содержимое файла cif и сам дескриптор"
      ],
      "metadata": {
        "id": "zw_kJMbny5XA"
      }
    },
    {
      "cell_type": "code",
      "source": [
        "structures[0]"
      ],
      "metadata": {
        "colab": {
          "base_uri": "https://localhost:8080/"
        },
        "id": "fVvwPDShvW2E",
        "outputId": "e83764b5-6021-45a7-a201-fc918812b98e"
      },
      "execution_count": 14,
      "outputs": [
        {
          "output_type": "execute_result",
          "data": {
            "text/plain": [
              "Structure Summary\n",
              "Lattice\n",
              "    abc : 6.228505 6.228505 5.023228\n",
              " angles : 90.0 90.0 90.0\n",
              " volume : 194.87248608402456\n",
              "      A : np.float64(6.228505) np.float64(0.0) np.float64(3.813859355861643e-16)\n",
              "      B : np.float64(1.0016199964124179e-15) np.float64(6.228505) np.float64(3.813859355861643e-16)\n",
              "      C : np.float64(0.0) np.float64(0.0) np.float64(5.023228)\n",
              "    pbc : True True True\n",
              "PeriodicSite: Nb0 (Nb) (2.076, 0.9495, 2.512) [0.3333, 0.1525, 0.5]\n",
              "PeriodicSite: Nb1 (Nb) (4.152, 5.279, 2.512) [0.6667, 0.8475, 0.5]\n",
              "PeriodicSite: Nb2 (Nb) (0.9495, 4.152, 2.512) [0.1525, 0.6667, 0.5]\n",
              "PeriodicSite: Nb3 (Nb) (5.279, 2.076, 2.512) [0.8475, 0.3333, 0.5]\n",
              "PeriodicSite: Nb4 (Nb) (2.076, 5.279, 4.504e-16) [0.3333, 0.8475, 0.0]\n",
              "PeriodicSite: Nb5 (Nb) (5.279, 4.152, 5.775e-16) [0.8475, 0.6667, 0.0]\n",
              "PeriodicSite: Nb6 (Nb) (0.9495, 2.076, 1.853e-16) [0.1525, 0.3333, 0.0]\n",
              "PeriodicSite: Nb7 (Nb) (4.152, 0.9495, 3.124e-16) [0.6667, 0.1525, 0.0]\n",
              "PeriodicSite: Co8 (Co) (0.0, 0.0, 3.767) [0.0, 0.0, 0.75]\n",
              "PeriodicSite: Co9 (Co) (0.0, 0.0, 1.256) [0.0, 0.0, 0.25]\n",
              "PeriodicSite: Si10 (Si) (3.114, 3.114, 3.767) [0.5, 0.5, 0.75]\n",
              "PeriodicSite: Si11 (Si) (3.114, 3.114, 1.256) [0.5, 0.5, 0.25]"
            ]
          },
          "metadata": {},
          "execution_count": 14
        }
      ]
    },
    {
      "cell_type": "code",
      "source": [
        "get_descriptors(structures[0])"
      ],
      "metadata": {
        "colab": {
          "base_uri": "https://localhost:8080/"
        },
        "id": "J8SeI4BevgRF",
        "outputId": "c2ad60ff-e925-47c1-bb99-aae809595e33"
      },
      "execution_count": 16,
      "outputs": [
        {
          "output_type": "execute_result",
          "data": {
            "text/plain": [
              "array([7.64407025e+01, 2.40916667e+03, 1.69666667e+00, 3.33333333e-01,\n",
              "       0.00000000e+00, 4.50000000e+00, 5.83333333e+00, 1.72341667e+01,\n",
              "       1.28833333e-01, 2.58078533e-01, 2.22833333e+02])"
            ]
          },
          "metadata": {},
          "execution_count": 16
        }
      ]
    },
    {
      "cell_type": "code",
      "source": [],
      "metadata": {
        "id": "87d-fp4X5ZY2"
      },
      "execution_count": null,
      "outputs": []
    }
  ]
}